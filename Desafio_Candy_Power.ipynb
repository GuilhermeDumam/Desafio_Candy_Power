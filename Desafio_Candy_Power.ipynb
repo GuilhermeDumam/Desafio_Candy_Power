{
  "nbformat": 4,
  "nbformat_minor": 0,
  "metadata": {
    "colab": {
      "name": "Desafio_Candy_Power.ipynb",
      "provenance": [],
      "collapsed_sections": [],
      "include_colab_link": true
    },
    "kernelspec": {
      "name": "python3",
      "display_name": "Python 3"
    }
  },
  "cells": [
    {
      "cell_type": "markdown",
      "metadata": {
        "id": "view-in-github",
        "colab_type": "text"
      },
      "source": [
        "<a href=\"https://colab.research.google.com/github/GuilhermeDumam/Desafio_Candy_Power/blob/Master/Desafio_Candy_Power.ipynb\" target=\"_parent\"><img src=\"https://colab.research.google.com/assets/colab-badge.svg\" alt=\"Open In Colab\"/></a>"
      ]
    },
    {
      "cell_type": "markdown",
      "metadata": {
        "id": "j8qGhoAt-h5-"
      },
      "source": [
        "\n",
        "#### Desafio\n",
        "\n",
        "O doce é de chocolate? \n",
        "\n",
        "[Candy Power Chanllege](https://github.com/fivethirtyeight/data/tree/master/candy-power-ranking)\n",
        "\n",
        "Vamos descobrir a partir do desempenho dos doces em hallowens. Utilizaremos a 'regressão logística' para classificar se o doce é ou não é de chocolate.\n",
        "\n",
        "As etapas abaixo são:\n",
        "\n",
        "\n",
        "*   Importação das bibliotecas e da base de dados\n",
        "*   EDA e Feature Engineering\n",
        "*   Modelagem\n",
        "*   Conclusão\n",
        "\n"
      ]
    },
    {
      "cell_type": "code",
      "metadata": {
        "id": "s_Axz2kLYHH2"
      },
      "source": [
        "\n",
        "import matplotlib.pyplot as plt\n",
        "import numpy as np\n",
        "from sklearn import datasets, linear_model\n",
        "from sklearn.metrics import mean_squared_error, r2_score\n",
        "import pandas as pd\n",
        "\n",
        "import matplotlib.pyplot as plt\n",
        "import seaborn as sns\n",
        "from sklearn import preprocessing\n",
        "from sklearn.linear_model import LogisticRegression\n",
        "from sklearn.model_selection import train_test_split\n"
      ],
      "execution_count": null,
      "outputs": []
    },
    {
      "cell_type": "markdown",
      "source": [
        "###EDA - vamos importar e explorar nossa base de dados, veremos o balanceamento, sua distribuição, missing values, valores duplicados."
      ],
      "metadata": {
        "id": "unwqXM-S-V1n"
      }
    },
    {
      "cell_type": "code",
      "metadata": {
        "id": "dUU6rS-TZGAN",
        "colab": {
          "base_uri": "https://localhost:8080/",
          "height": 223
        },
        "outputId": "4a35ad85-a371-409c-e0fa-9e5d848b19e9"
      },
      "source": [
        "\n",
        "df = pd.read_csv(\"https://raw.githubusercontent.com/fivethirtyeight/data/master/candy-power-ranking/candy-data.csv\")\n",
        "df = df[['fruity','caramel','peanutyalmondy','nougat','crispedricewafer','hard', 'bar','pluribus','sugarpercent','pricepercent','winpercent','chocolate']] \t\n",
        "\n",
        "print(df.shape)\n",
        "df.head()"
      ],
      "execution_count": null,
      "outputs": [
        {
          "output_type": "stream",
          "name": "stdout",
          "text": [
            "(85, 12)\n"
          ]
        },
        {
          "output_type": "execute_result",
          "data": {
            "text/html": [
              "\n",
              "  <div id=\"df-9f3bde88-5204-4459-b939-b7e67508954d\">\n",
              "    <div class=\"colab-df-container\">\n",
              "      <div>\n",
              "<style scoped>\n",
              "    .dataframe tbody tr th:only-of-type {\n",
              "        vertical-align: middle;\n",
              "    }\n",
              "\n",
              "    .dataframe tbody tr th {\n",
              "        vertical-align: top;\n",
              "    }\n",
              "\n",
              "    .dataframe thead th {\n",
              "        text-align: right;\n",
              "    }\n",
              "</style>\n",
              "<table border=\"1\" class=\"dataframe\">\n",
              "  <thead>\n",
              "    <tr style=\"text-align: right;\">\n",
              "      <th></th>\n",
              "      <th>fruity</th>\n",
              "      <th>caramel</th>\n",
              "      <th>peanutyalmondy</th>\n",
              "      <th>nougat</th>\n",
              "      <th>crispedricewafer</th>\n",
              "      <th>hard</th>\n",
              "      <th>bar</th>\n",
              "      <th>pluribus</th>\n",
              "      <th>sugarpercent</th>\n",
              "      <th>pricepercent</th>\n",
              "      <th>winpercent</th>\n",
              "      <th>chocolate</th>\n",
              "    </tr>\n",
              "  </thead>\n",
              "  <tbody>\n",
              "    <tr>\n",
              "      <th>0</th>\n",
              "      <td>0</td>\n",
              "      <td>1</td>\n",
              "      <td>0</td>\n",
              "      <td>0</td>\n",
              "      <td>1</td>\n",
              "      <td>0</td>\n",
              "      <td>1</td>\n",
              "      <td>0</td>\n",
              "      <td>0.732</td>\n",
              "      <td>0.860</td>\n",
              "      <td>66.971725</td>\n",
              "      <td>1</td>\n",
              "    </tr>\n",
              "    <tr>\n",
              "      <th>1</th>\n",
              "      <td>0</td>\n",
              "      <td>0</td>\n",
              "      <td>0</td>\n",
              "      <td>1</td>\n",
              "      <td>0</td>\n",
              "      <td>0</td>\n",
              "      <td>1</td>\n",
              "      <td>0</td>\n",
              "      <td>0.604</td>\n",
              "      <td>0.511</td>\n",
              "      <td>67.602936</td>\n",
              "      <td>1</td>\n",
              "    </tr>\n",
              "    <tr>\n",
              "      <th>2</th>\n",
              "      <td>0</td>\n",
              "      <td>0</td>\n",
              "      <td>0</td>\n",
              "      <td>0</td>\n",
              "      <td>0</td>\n",
              "      <td>0</td>\n",
              "      <td>0</td>\n",
              "      <td>0</td>\n",
              "      <td>0.011</td>\n",
              "      <td>0.116</td>\n",
              "      <td>32.261086</td>\n",
              "      <td>0</td>\n",
              "    </tr>\n",
              "    <tr>\n",
              "      <th>3</th>\n",
              "      <td>0</td>\n",
              "      <td>0</td>\n",
              "      <td>0</td>\n",
              "      <td>0</td>\n",
              "      <td>0</td>\n",
              "      <td>0</td>\n",
              "      <td>0</td>\n",
              "      <td>0</td>\n",
              "      <td>0.011</td>\n",
              "      <td>0.511</td>\n",
              "      <td>46.116505</td>\n",
              "      <td>0</td>\n",
              "    </tr>\n",
              "    <tr>\n",
              "      <th>4</th>\n",
              "      <td>1</td>\n",
              "      <td>0</td>\n",
              "      <td>0</td>\n",
              "      <td>0</td>\n",
              "      <td>0</td>\n",
              "      <td>0</td>\n",
              "      <td>0</td>\n",
              "      <td>0</td>\n",
              "      <td>0.906</td>\n",
              "      <td>0.511</td>\n",
              "      <td>52.341465</td>\n",
              "      <td>0</td>\n",
              "    </tr>\n",
              "  </tbody>\n",
              "</table>\n",
              "</div>\n",
              "      <button class=\"colab-df-convert\" onclick=\"convertToInteractive('df-9f3bde88-5204-4459-b939-b7e67508954d')\"\n",
              "              title=\"Convert this dataframe to an interactive table.\"\n",
              "              style=\"display:none;\">\n",
              "        \n",
              "  <svg xmlns=\"http://www.w3.org/2000/svg\" height=\"24px\"viewBox=\"0 0 24 24\"\n",
              "       width=\"24px\">\n",
              "    <path d=\"M0 0h24v24H0V0z\" fill=\"none\"/>\n",
              "    <path d=\"M18.56 5.44l.94 2.06.94-2.06 2.06-.94-2.06-.94-.94-2.06-.94 2.06-2.06.94zm-11 1L8.5 8.5l.94-2.06 2.06-.94-2.06-.94L8.5 2.5l-.94 2.06-2.06.94zm10 10l.94 2.06.94-2.06 2.06-.94-2.06-.94-.94-2.06-.94 2.06-2.06.94z\"/><path d=\"M17.41 7.96l-1.37-1.37c-.4-.4-.92-.59-1.43-.59-.52 0-1.04.2-1.43.59L10.3 9.45l-7.72 7.72c-.78.78-.78 2.05 0 2.83L4 21.41c.39.39.9.59 1.41.59.51 0 1.02-.2 1.41-.59l7.78-7.78 2.81-2.81c.8-.78.8-2.07 0-2.86zM5.41 20L4 18.59l7.72-7.72 1.47 1.35L5.41 20z\"/>\n",
              "  </svg>\n",
              "      </button>\n",
              "      \n",
              "  <style>\n",
              "    .colab-df-container {\n",
              "      display:flex;\n",
              "      flex-wrap:wrap;\n",
              "      gap: 12px;\n",
              "    }\n",
              "\n",
              "    .colab-df-convert {\n",
              "      background-color: #E8F0FE;\n",
              "      border: none;\n",
              "      border-radius: 50%;\n",
              "      cursor: pointer;\n",
              "      display: none;\n",
              "      fill: #1967D2;\n",
              "      height: 32px;\n",
              "      padding: 0 0 0 0;\n",
              "      width: 32px;\n",
              "    }\n",
              "\n",
              "    .colab-df-convert:hover {\n",
              "      background-color: #E2EBFA;\n",
              "      box-shadow: 0px 1px 2px rgba(60, 64, 67, 0.3), 0px 1px 3px 1px rgba(60, 64, 67, 0.15);\n",
              "      fill: #174EA6;\n",
              "    }\n",
              "\n",
              "    [theme=dark] .colab-df-convert {\n",
              "      background-color: #3B4455;\n",
              "      fill: #D2E3FC;\n",
              "    }\n",
              "\n",
              "    [theme=dark] .colab-df-convert:hover {\n",
              "      background-color: #434B5C;\n",
              "      box-shadow: 0px 1px 3px 1px rgba(0, 0, 0, 0.15);\n",
              "      filter: drop-shadow(0px 1px 2px rgba(0, 0, 0, 0.3));\n",
              "      fill: #FFFFFF;\n",
              "    }\n",
              "  </style>\n",
              "\n",
              "      <script>\n",
              "        const buttonEl =\n",
              "          document.querySelector('#df-9f3bde88-5204-4459-b939-b7e67508954d button.colab-df-convert');\n",
              "        buttonEl.style.display =\n",
              "          google.colab.kernel.accessAllowed ? 'block' : 'none';\n",
              "\n",
              "        async function convertToInteractive(key) {\n",
              "          const element = document.querySelector('#df-9f3bde88-5204-4459-b939-b7e67508954d');\n",
              "          const dataTable =\n",
              "            await google.colab.kernel.invokeFunction('convertToInteractive',\n",
              "                                                     [key], {});\n",
              "          if (!dataTable) return;\n",
              "\n",
              "          const docLinkHtml = 'Like what you see? Visit the ' +\n",
              "            '<a target=\"_blank\" href=https://colab.research.google.com/notebooks/data_table.ipynb>data table notebook</a>'\n",
              "            + ' to learn more about interactive tables.';\n",
              "          element.innerHTML = '';\n",
              "          dataTable['output_type'] = 'display_data';\n",
              "          await google.colab.output.renderOutput(dataTable, element);\n",
              "          const docLink = document.createElement('div');\n",
              "          docLink.innerHTML = docLinkHtml;\n",
              "          element.appendChild(docLink);\n",
              "        }\n",
              "      </script>\n",
              "    </div>\n",
              "  </div>\n",
              "  "
            ],
            "text/plain": [
              "   fruity  caramel  peanutyalmondy  ...  pricepercent  winpercent  chocolate\n",
              "0       0        1               0  ...         0.860   66.971725          1\n",
              "1       0        0               0  ...         0.511   67.602936          1\n",
              "2       0        0               0  ...         0.116   32.261086          0\n",
              "3       0        0               0  ...         0.511   46.116505          0\n",
              "4       1        0               0  ...         0.511   52.341465          0\n",
              "\n",
              "[5 rows x 12 columns]"
            ]
          },
          "metadata": {},
          "execution_count": 2
        }
      ]
    },
    {
      "cell_type": "code",
      "metadata": {
        "colab": {
          "base_uri": "https://localhost:8080/"
        },
        "id": "80Zc_DbpoF-k",
        "outputId": "ea7aff61-3bd1-498b-af41-9493b70ccf40"
      },
      "source": [
        "df.isna().sum()"
      ],
      "execution_count": null,
      "outputs": [
        {
          "output_type": "execute_result",
          "data": {
            "text/plain": [
              "fruity              0\n",
              "caramel             0\n",
              "peanutyalmondy      0\n",
              "nougat              0\n",
              "crispedricewafer    0\n",
              "hard                0\n",
              "bar                 0\n",
              "pluribus            0\n",
              "sugarpercent        0\n",
              "pricepercent        0\n",
              "winpercent          0\n",
              "chocolate           0\n",
              "dtype: int64"
            ]
          },
          "metadata": {},
          "execution_count": 3
        }
      ]
    },
    {
      "cell_type": "code",
      "metadata": {
        "colab": {
          "base_uri": "https://localhost:8080/"
        },
        "id": "0jT9WmEToQNj",
        "outputId": "a362d541-bce8-4074-abc1-70ecb1ab1769"
      },
      "source": [
        "df[df.duplicated()].count().sum()"
      ],
      "execution_count": null,
      "outputs": [
        {
          "output_type": "execute_result",
          "data": {
            "text/plain": [
              "0"
            ]
          },
          "metadata": {},
          "execution_count": 4
        }
      ]
    },
    {
      "cell_type": "code",
      "source": [
        "df.info()"
      ],
      "metadata": {
        "id": "3v0KfOu3BG5R",
        "outputId": "af394836-cbd2-4477-df42-1301ceed0713",
        "colab": {
          "base_uri": "https://localhost:8080/"
        }
      },
      "execution_count": null,
      "outputs": [
        {
          "output_type": "stream",
          "name": "stdout",
          "text": [
            "<class 'pandas.core.frame.DataFrame'>\n",
            "RangeIndex: 85 entries, 0 to 84\n",
            "Data columns (total 12 columns):\n",
            " #   Column            Non-Null Count  Dtype  \n",
            "---  ------            --------------  -----  \n",
            " 0   fruity            85 non-null     int64  \n",
            " 1   caramel           85 non-null     int64  \n",
            " 2   peanutyalmondy    85 non-null     int64  \n",
            " 3   nougat            85 non-null     int64  \n",
            " 4   crispedricewafer  85 non-null     int64  \n",
            " 5   hard              85 non-null     int64  \n",
            " 6   bar               85 non-null     int64  \n",
            " 7   pluribus          85 non-null     int64  \n",
            " 8   sugarpercent      85 non-null     float64\n",
            " 9   pricepercent      85 non-null     float64\n",
            " 10  winpercent        85 non-null     float64\n",
            " 11  chocolate         85 non-null     int64  \n",
            "dtypes: float64(3), int64(9)\n",
            "memory usage: 8.1 KB\n"
          ]
        }
      ]
    },
    {
      "cell_type": "markdown",
      "metadata": {
        "id": "1gZ169R5gfuj"
      },
      "source": [
        "### Balanceamento"
      ]
    },
    {
      "cell_type": "code",
      "metadata": {
        "id": "svCiKJdVcE5b",
        "colab": {
          "base_uri": "https://localhost:8080/",
          "height": 337
        },
        "outputId": "6705c1ed-c97c-4dd6-f445-6897cefc4522"
      },
      "source": [
        "sns.countplot(\"chocolate\", data=df)\n",
        "plt.show()"
      ],
      "execution_count": null,
      "outputs": [
        {
          "output_type": "stream",
          "name": "stderr",
          "text": [
            "/usr/local/lib/python3.7/dist-packages/seaborn/_decorators.py:43: FutureWarning: Pass the following variable as a keyword arg: x. From version 0.12, the only valid positional argument will be `data`, and passing other arguments without an explicit keyword will result in an error or misinterpretation.\n",
            "  FutureWarning\n"
          ]
        },
        {
          "output_type": "display_data",
          "data": {
            "image/png": "[encoded data removed]",
            "text/plain": [
              "<Figure size 432x288 with 1 Axes>"
            ]
          },
          "metadata": {
            "needs_background": "light"
          }
        }
      ]
    },
    {
      "cell_type": "markdown",
      "source": [
        "O dataset está com um balanceamento \"bom\", não precisamos adotar técnicas de 'oversampling' e/ou 'undersampling'."
      ],
      "metadata": {
        "id": "F-UMQ321BZK-"
      }
    },
    {
      "cell_type": "code",
      "metadata": {
        "colab": {
          "base_uri": "https://localhost:8080/",
          "height": 265
        },
        "id": "DCqAEcEZvspr",
        "outputId": "018c01e2-7d3c-46c0-c53b-e6f9a64cf2ff"
      },
      "source": [
        "plt.scatter(df.index, df.chocolate)\n",
        "plt.show()"
      ],
      "execution_count": null,
      "outputs": [
        {
          "output_type": "display_data",
          "data": {
            "image/png": "[encoded data removed]",
            "text/plain": [
              "<Figure size 432x288 with 1 Axes>"
            ]
          },
          "metadata": {
            "needs_background": "light"
          }
        }
      ]
    },
    {
      "cell_type": "code",
      "metadata": {
        "id": "krqJFW0NiRIU",
        "colab": {
          "base_uri": "https://localhost:8080/",
          "height": 143
        },
        "outputId": "1704b72d-7f95-40fc-8c88-d7af24f76485"
      },
      "source": [
        "df.groupby('chocolate').mean()"
      ],
      "execution_count": null,
      "outputs": [
        {
          "output_type": "execute_result",
          "data": {
            "text/html": [
              "\n",
              "  <div id=\"df-0e1a9185-2e78-4321-b97e-70efcf5440c5\">\n",
              "    <div class=\"colab-df-container\">\n",
              "      <div>\n",
              "<style scoped>\n",
              "    .dataframe tbody tr th:only-of-type {\n",
              "        vertical-align: middle;\n",
              "    }\n",
              "\n",
              "    .dataframe tbody tr th {\n",
              "        vertical-align: top;\n",
              "    }\n",
              "\n",
              "    .dataframe thead th {\n",
              "        text-align: right;\n",
              "    }\n",
              "</style>\n",
              "<table border=\"1\" class=\"dataframe\">\n",
              "  <thead>\n",
              "    <tr style=\"text-align: right;\">\n",
              "      <th></th>\n",
              "      <th>fruity</th>\n",
              "      <th>caramel</th>\n",
              "      <th>peanutyalmondy</th>\n",
              "      <th>nougat</th>\n",
              "      <th>crispedricewafer</th>\n",
              "      <th>hard</th>\n",
              "      <th>bar</th>\n",
              "      <th>pluribus</th>\n",
              "      <th>sugarpercent</th>\n",
              "      <th>pricepercent</th>\n",
              "      <th>winpercent</th>\n",
              "    </tr>\n",
              "    <tr>\n",
              "      <th>chocolate</th>\n",
              "      <th></th>\n",
              "      <th></th>\n",
              "      <th></th>\n",
              "      <th></th>\n",
              "      <th></th>\n",
              "      <th></th>\n",
              "      <th></th>\n",
              "      <th></th>\n",
              "      <th></th>\n",
              "      <th></th>\n",
              "      <th></th>\n",
              "    </tr>\n",
              "  </thead>\n",
              "  <tbody>\n",
              "    <tr>\n",
              "      <th>0</th>\n",
              "      <td>0.770833</td>\n",
              "      <td>0.083333</td>\n",
              "      <td>0.041667</td>\n",
              "      <td>0.020833</td>\n",
              "      <td>0.000000</td>\n",
              "      <td>0.291667</td>\n",
              "      <td>0.020833</td>\n",
              "      <td>0.666667</td>\n",
              "      <td>0.452937</td>\n",
              "      <td>0.343021</td>\n",
              "      <td>42.142257</td>\n",
              "    </tr>\n",
              "    <tr>\n",
              "      <th>1</th>\n",
              "      <td>0.027027</td>\n",
              "      <td>0.270270</td>\n",
              "      <td>0.324324</td>\n",
              "      <td>0.162162</td>\n",
              "      <td>0.189189</td>\n",
              "      <td>0.027027</td>\n",
              "      <td>0.540541</td>\n",
              "      <td>0.324324</td>\n",
              "      <td>0.512000</td>\n",
              "      <td>0.632162</td>\n",
              "      <td>60.921529</td>\n",
              "    </tr>\n",
              "  </tbody>\n",
              "</table>\n",
              "</div>\n",
              "      <button class=\"colab-df-convert\" onclick=\"convertToInteractive('df-0e1a9185-2e78-4321-b97e-70efcf5440c5')\"\n",
              "              title=\"Convert this dataframe to an interactive table.\"\n",
              "              style=\"display:none;\">\n",
              "        \n",
              "  <svg xmlns=\"http://www.w3.org/2000/svg\" height=\"24px\"viewBox=\"0 0 24 24\"\n",
              "       width=\"24px\">\n",
              "    <path d=\"M0 0h24v24H0V0z\" fill=\"none\"/>\n",
              "    <path d=\"M18.56 5.44l.94 2.06.94-2.06 2.06-.94-2.06-.94-.94-2.06-.94 2.06-2.06.94zm-11 1L8.5 8.5l.94-2.06 2.06-.94-2.06-.94L8.5 2.5l-.94 2.06-2.06.94zm10 10l.94 2.06.94-2.06 2.06-.94-2.06-.94-.94-2.06-.94 2.06-2.06.94z\"/><path d=\"M17.41 7.96l-1.37-1.37c-.4-.4-.92-.59-1.43-.59-.52 0-1.04.2-1.43.59L10.3 9.45l-7.72 7.72c-.78.78-.78 2.05 0 2.83L4 21.41c.39.39.9.59 1.41.59.51 0 1.02-.2 1.41-.59l7.78-7.78 2.81-2.81c.8-.78.8-2.07 0-2.86zM5.41 20L4 18.59l7.72-7.72 1.47 1.35L5.41 20z\"/>\n",
              "  </svg>\n",
              "      </button>\n",
              "      \n",
              "  <style>\n",
              "    .colab-df-container {\n",
              "      display:flex;\n",
              "      flex-wrap:wrap;\n",
              "      gap: 12px;\n",
              "    }\n",
              "\n",
              "    .colab-df-convert {\n",
              "      background-color: #E8F0FE;\n",
              "      border: none;\n",
              "      border-radius: 50%;\n",
              "      cursor: pointer;\n",
              "      display: none;\n",
              "      fill: #1967D2;\n",
              "      height: 32px;\n",
              "      padding: 0 0 0 0;\n",
              "      width: 32px;\n",
              "    }\n",
              "\n",
              "    .colab-df-convert:hover {\n",
              "      background-color: #E2EBFA;\n",
              "      box-shadow: 0px 1px 2px rgba(60, 64, 67, 0.3), 0px 1px 3px 1px rgba(60, 64, 67, 0.15);\n",
              "      fill: #174EA6;\n",
              "    }\n",
              "\n",
              "    [theme=dark] .colab-df-convert {\n",
              "      background-color: #3B4455;\n",
              "      fill: #D2E3FC;\n",
              "    }\n",
              "\n",
              "    [theme=dark] .colab-df-convert:hover {\n",
              "      background-color: #434B5C;\n",
              "      box-shadow: 0px 1px 3px 1px rgba(0, 0, 0, 0.15);\n",
              "      filter: drop-shadow(0px 1px 2px rgba(0, 0, 0, 0.3));\n",
              "      fill: #FFFFFF;\n",
              "    }\n",
              "  </style>\n",
              "\n",
              "      <script>\n",
              "        const buttonEl =\n",
              "          document.querySelector('#df-0e1a9185-2e78-4321-b97e-70efcf5440c5 button.colab-df-convert');\n",
              "        buttonEl.style.display =\n",
              "          google.colab.kernel.accessAllowed ? 'block' : 'none';\n",
              "\n",
              "        async function convertToInteractive(key) {\n",
              "          const element = document.querySelector('#df-0e1a9185-2e78-4321-b97e-70efcf5440c5');\n",
              "          const dataTable =\n",
              "            await google.colab.kernel.invokeFunction('convertToInteractive',\n",
              "                                                     [key], {});\n",
              "          if (!dataTable) return;\n",
              "\n",
              "          const docLinkHtml = 'Like what you see? Visit the ' +\n",
              "            '<a target=\"_blank\" href=https://colab.research.google.com/notebooks/data_table.ipynb>data table notebook</a>'\n",
              "            + ' to learn more about interactive tables.';\n",
              "          element.innerHTML = '';\n",
              "          dataTable['output_type'] = 'display_data';\n",
              "          await google.colab.output.renderOutput(dataTable, element);\n",
              "          const docLink = document.createElement('div');\n",
              "          docLink.innerHTML = docLinkHtml;\n",
              "          element.appendChild(docLink);\n",
              "        }\n",
              "      </script>\n",
              "    </div>\n",
              "  </div>\n",
              "  "
            ],
            "text/plain": [
              "             fruity   caramel  ...  pricepercent  winpercent\n",
              "chocolate                      ...                          \n",
              "0          0.770833  0.083333  ...      0.343021   42.142257\n",
              "1          0.027027  0.270270  ...      0.632162   60.921529\n",
              "\n",
              "[2 rows x 11 columns]"
            ]
          },
          "metadata": {},
          "execution_count": 10
        }
      ]
    },
    {
      "cell_type": "markdown",
      "source": [
        "Aqui nós temos as informações de como se comporta os parâmetros para cada tipo de doce. 0 = não de chocolate, 1 = de chocolate. "
      ],
      "metadata": {
        "id": "rb0-LXegCPjk"
      }
    },
    {
      "cell_type": "markdown",
      "source": [
        "## Train Test Split - Vamos dividir nosso dataset em features para treino e teste. Lembrando que nosso 'target', nosso objetivo, é saber se o doce é chocolate ou não. \n"
      ],
      "metadata": {
        "id": "HqR6rICZC2IC"
      }
    },
    {
      "cell_type": "code",
      "metadata": {
        "id": "x2wd5exSa64p"
      },
      "source": [
        "train_df, test_df = train_test_split(df, test_size=0.2, random_state=42)"
      ],
      "execution_count": null,
      "outputs": []
    },
    {
      "cell_type": "code",
      "metadata": {
        "id": "1YUwLtOBb1MN"
      },
      "source": [
        "X_train = train_df[['fruity','caramel','peanutyalmondy','nougat','crispedricewafer','hard', 'bar','pluribus','sugarpercent','pricepercent','winpercent']] \t\n",
        "\n",
        "y_train = train_df[\"chocolate\"]\n",
        "\n",
        "X_test = test_df[['fruity','caramel','peanutyalmondy','nougat','crispedricewafer','hard', 'bar','pluribus','sugarpercent','pricepercent','winpercent']] \t\n",
        "\n",
        "y_test = test_df[\"chocolate\"]"
      ],
      "execution_count": null,
      "outputs": []
    },
    {
      "cell_type": "code",
      "metadata": {
        "id": "TtKeefg-b_NK",
        "colab": {
          "base_uri": "https://localhost:8080/"
        },
        "outputId": "41210ebb-0dab-4479-8f0b-bc6681b5b0af"
      },
      "source": [
        "y_test.head()"
      ],
      "execution_count": null,
      "outputs": [
        {
          "output_type": "execute_result",
          "data": {
            "text/plain": [
              "78    0\n",
              "0     1\n",
              "68    0\n",
              "22    1\n",
              "12    0\n",
              "Name: chocolate, dtype: int64"
            ]
          },
          "metadata": {},
          "execution_count": 13
        }
      ]
    },
    {
      "cell_type": "markdown",
      "source": [
        "### Dúvida: Não precisaríamos trabalhar nas features? (escalar, transformar categóricas em contínuas).\n",
        "\n",
        "\n",
        "*   Nós vimos que as features categóricas já estão em formatação binária, e as com valores numéricos estão em escalas muito próximas. Dispensando a necessidade de técnicas de escala e transformação.  "
      ],
      "metadata": {
        "id": "y97vTrcgEZpr"
      }
    },
    {
      "cell_type": "markdown",
      "metadata": {
        "id": "jw8XnJRyEz4r"
      },
      "source": [
        "### Treinamento do Modelo"
      ]
    },
    {
      "cell_type": "code",
      "source": [
        "LogisticRegression?"
      ],
      "metadata": {
        "id": "Dzfn0X1GaQL3"
      },
      "execution_count": null,
      "outputs": []
    },
    {
      "cell_type": "code",
      "metadata": {
        "colab": {
          "base_uri": "https://localhost:8080/",
          "height": 298
        },
        "id": "-ZaxyUNwvUE0",
        "outputId": "89d4625a-4c26-48a3-9c70-6cde28750e41"
      },
      "source": [
        "logistic = lambda z: 1./ (1 + np.exp(-z))       #logistic function - demonstração.\n",
        "z = np.linspace(-10,10,100)\n",
        "plt.plot(z, logistic(z))\n",
        "plt.title('logistic function')"
      ],
      "execution_count": null,
      "outputs": [
        {
          "output_type": "execute_result",
          "data": {
            "text/plain": [
              "Text(0.5, 1.0, 'logistic function')"
            ]
          },
          "metadata": {},
          "execution_count": 14
        },
        {
          "output_type": "display_data",
          "data": {
            "image/png": "[encoded data removed]",
            "text/plain": [
              "<Figure size 432x288 with 1 Axes>"
            ]
          },
          "metadata": {
            "needs_background": "light"
          }
        }
      ]
    },
    {
      "cell_type": "code",
      "metadata": {
        "id": "4T-FpxI6wMaT",
        "colab": {
          "base_uri": "https://localhost:8080/"
        },
        "outputId": "47e97c86-38d7-4147-e2e8-b44b6acd3ec7"
      },
      "source": [
        "## Aplicação Chocolate\n",
        "from sklearn.linear_model import LogisticRegression\n",
        "\n",
        "logreg = LogisticRegression(solver='sag', random_state=42)\n",
        "logreg.fit(X_train,y_train)\n",
        "y_pred = logreg.predict(X_test)"
      ],
      "execution_count": null,
      "outputs": [
        {
          "output_type": "stream",
          "name": "stderr",
          "text": [
            "/usr/local/lib/python3.7/dist-packages/sklearn/linear_model/_sag.py:354: ConvergenceWarning: The max_iter was reached which means the coef_ did not converge\n",
            "  ConvergenceWarning,\n"
          ]
        }
      ]
    },
    {
      "cell_type": "code",
      "metadata": {
        "colab": {
          "base_uri": "https://localhost:8080/"
        },
        "id": "D_ODl7g1qyAi",
        "outputId": "ccdaacb8-332f-479e-deab-37e400ad12c9"
      },
      "source": [
        "#Os parâmetros do algoritmo deixaremos como padrão\n",
        "logreg.get_params()"
      ],
      "execution_count": null,
      "outputs": [
        {
          "output_type": "execute_result",
          "data": {
            "text/plain": [
              "{'C': 1.0,\n",
              " 'class_weight': None,\n",
              " 'dual': False,\n",
              " 'fit_intercept': True,\n",
              " 'intercept_scaling': 1,\n",
              " 'l1_ratio': None,\n",
              " 'max_iter': 100,\n",
              " 'multi_class': 'auto',\n",
              " 'n_jobs': None,\n",
              " 'penalty': 'l2',\n",
              " 'random_state': 42,\n",
              " 'solver': 'sag',\n",
              " 'tol': 0.0001,\n",
              " 'verbose': 0,\n",
              " 'warm_start': False}"
            ]
          },
          "metadata": {},
          "execution_count": 20
        }
      ]
    },
    {
      "cell_type": "code",
      "metadata": {
        "colab": {
          "base_uri": "https://localhost:8080/"
        },
        "id": "xPHB2XtQq_UQ",
        "outputId": "ee60a00a-3548-4684-c8a9-b33b43409fb8"
      },
      "source": [
        "#Achamos o Alfa da equação logística\n",
        "logreg.intercept_ "
      ],
      "execution_count": null,
      "outputs": [
        {
          "output_type": "execute_result",
          "data": {
            "text/plain": [
              "array([-0.29822741])"
            ]
          },
          "metadata": {},
          "execution_count": 21
        }
      ]
    },
    {
      "cell_type": "code",
      "metadata": {
        "colab": {
          "base_uri": "https://localhost:8080/",
          "height": 607
        },
        "id": "6V7Unq2grxRu",
        "outputId": "8937bfc3-d5b8-4ae6-fdd6-3419115d6e13"
      },
      "source": [
        "pd.DataFrame(data=logreg.coef_, columns=X_train.columns).plot.barh(figsize=(10,10))\n",
        "plt.title(\"Feature Importance\")\n",
        "plt.show()"
      ],
      "execution_count": null,
      "outputs": [
        {
          "output_type": "display_data",
          "data": {
            "image/png": "[encoded data removed]",
            "text/plain": [
              "<Figure size 720x720 with 1 Axes>"
            ]
          },
          "metadata": {
            "needs_background": "light"
          }
        }
      ]
    },
    {
      "cell_type": "markdown",
      "source": [
        "####Com esse gráfico acima, podemos ver que as features que mais influenciam para o doce ser ou não ser de chocolate, são: \n",
        "\n",
        "*   Se ele tem fruta, influenciando negativamente para ele ser chocolate.\n",
        "*   Se ele é em formato de barra, influenciando positivamente para ele ser chocolate.\n",
        "*   Se ele é duro, influenciando negativamente para ser chocolate.\n",
        "*   Se ele é um doce em uma caixa ou solo, influencia negativamente. \n",
        "\n",
        "\n"
      ],
      "metadata": {
        "id": "_ebuzC9dRLQl"
      }
    },
    {
      "cell_type": "markdown",
      "metadata": {
        "id": "wT5KSeK_FT16"
      },
      "source": [
        "### Avaliação Matriz de Confusão"
      ]
    },
    {
      "cell_type": "code",
      "metadata": {
        "id": "ZcblkSys9TOm",
        "colab": {
          "base_uri": "https://localhost:8080/",
          "height": 323
        },
        "outputId": "e9f79594-58e2-45e6-dcb0-3ccf2106b42d"
      },
      "source": [
        "from sklearn import metrics\n",
        "cnf_matrix = metrics.confusion_matrix(y_test, y_pred)\n",
        "\n",
        "class_names=[0,1] # name  of classes\n",
        "fig, ax = plt.subplots()\n",
        "tick_marks = np.arange(len(class_names))\n",
        "plt.xticks(tick_marks, class_names)\n",
        "plt.yticks(tick_marks, class_names)\n",
        "\n",
        "sns.heatmap(pd.DataFrame(cnf_matrix), annot=True, fmt='g')\n",
        "\n",
        "plt.tight_layout()\n",
        "plt.title('Confusion matrix', y=1.1)\n",
        "plt.ylabel('Actual label')\n",
        "plt.xlabel('Predicted label')\n",
        "plt.show()"
      ],
      "execution_count": null,
      "outputs": [
        {
          "output_type": "display_data",
          "data": {
            "image/png": "[encoded data removed]",
            "text/plain": [
              "<Figure size 432x288 with 2 Axes>"
            ]
          },
          "metadata": {
            "needs_background": "light"
          }
        }
      ]
    },
    {
      "cell_type": "markdown",
      "metadata": {
        "id": "bwFsPmQQGIiR"
      },
      "source": [
        "###Métricas para interpretação da eficiência do modelo."
      ]
    },
    {
      "cell_type": "code",
      "metadata": {
        "id": "glRCpnJN9WAG",
        "colab": {
          "base_uri": "https://localhost:8080/"
        },
        "outputId": "5334e836-b205-483a-d0f5-3fdbd2a26862"
      },
      "source": [
        "print(\"Accuracy:\",metrics.accuracy_score(y_test, y_pred))\n",
        "print(\"Precision:\",metrics.precision_score(y_test, y_pred))\n",
        "print(\"Recall:\",metrics.recall_score(y_test, y_pred))"
      ],
      "execution_count": null,
      "outputs": [
        {
          "output_type": "stream",
          "name": "stdout",
          "text": [
            "Accuracy: 1.0\n",
            "Precision: 1.0\n",
            "Recall: 1.0\n"
          ]
        }
      ]
    },
    {
      "cell_type": "markdown",
      "source": [
        "####Nosso modelo teve uma predição praticamente perfeita.\n",
        "\n",
        "isso é bom? Sim e não.\n",
        "Podemos estar 'overfittando' nosso modelo, o que quer dizer que se mudarmos o cenário de treino, para outros dados no teste, ele pode se perder e predizer erroneamente.\n",
        "\n",
        "Mas, pode ser que devido ao pequeno tamanho do dataset, seu balanceamento, suas features já serem bem separadas entre ser ou não ser chocolate; gerou um cenário muito favorável pra predição do modelo. "
      ],
      "metadata": {
        "id": "iTIitjOKWC1c"
      }
    },
    {
      "cell_type": "markdown",
      "metadata": {
        "id": "6FOw7SPCGTlg"
      },
      "source": [
        "### ROC (Receiver Operation Characteristic) Curve\n",
        "\n",
        "É uma medida de desempenho para problemas de classificação em várias configurações de limites. ROC é uma curva de probabilidade e AUC representa o grau ou medida de separabilidade. Diz o quanto o modelo é capaz de distinguir entre as classes. Quanto maior a AUC, melhor será o modelo em prever 0s como 0s e 1s como 1s. Por analogia, quanto maior a AUC, melhor o modelo distingue entre pacientes com doença e sem doença.\n",
        "\n",
        "* A curva ROC é traçada com TPR contra FPR, onde TPR está no eixo y e FPR está no eixo x.\n",
        "\n",
        "* AUC (Area Under Curve) varia de 0,0 até 1,0, ou de 0% a 100%. Quanto maior o AUC, melhor, e nos permite comparar diferentes modelos.\n"
      ]
    },
    {
      "cell_type": "code",
      "metadata": {
        "colab": {
          "base_uri": "https://localhost:8080/"
        },
        "id": "JBcqjVJGt4hZ",
        "outputId": "d62db3d7-c243-4792-822a-951467271dcb"
      },
      "source": [
        "y_test.shape"
      ],
      "execution_count": null,
      "outputs": [
        {
          "output_type": "execute_result",
          "data": {
            "text/plain": [
              "(17,)"
            ]
          },
          "metadata": {},
          "execution_count": 25
        }
      ]
    },
    {
      "cell_type": "code",
      "metadata": {
        "id": "6JAbJD5l9cM4",
        "colab": {
          "base_uri": "https://localhost:8080/",
          "height": 265
        },
        "outputId": "a31f5160-bdcc-4531-e16d-bdede46518e0"
      },
      "source": [
        "## predict_prob retorna a probabilidade de cada classe.\n",
        "y_pred_proba = logreg.predict_proba(X_test)[:,1]\n",
        "fpr, tpr, thresholds = metrics.roc_curve(y_test,  y_pred_proba)\n",
        "auc = metrics.roc_auc_score(y_test, y_pred_proba)\n",
        "plt.plot(fpr,tpr,label=\"data 1, auc=\"+str(auc))\n",
        "plt.legend(loc=4)\n",
        "plt.show()"
      ],
      "execution_count": null,
      "outputs": [
        {
          "output_type": "display_data",
          "data": {
            "image/png": "[encoded data removed]",
            "text/plain": [
              "<Figure size 432x288 with 1 Axes>"
            ]
          },
          "metadata": {
            "needs_background": "light"
          }
        }
      ]
    },
    {
      "cell_type": "markdown",
      "metadata": {
        "id": "Jos0MoGaTDiz"
      },
      "source": [
        "\n",
        "Encontrando o melhor threshold, um dos métodos mais simples e que resolvem o problema é o [Youden's index](https://en.wikipedia.org/wiki/Youden%27s_J_statistic)\n",
        "\n",
        "\n",
        "J = TruePositiveRate – FalsePositiveRate"
      ]
    },
    {
      "cell_type": "code",
      "metadata": {
        "id": "-68pV398Qrj2"
      },
      "source": [
        "J = tpr - fpr\n",
        "ix = np.argmax(J)"
      ],
      "execution_count": null,
      "outputs": []
    },
    {
      "cell_type": "code",
      "source": [
        "#pontos de corte na curva\n",
        "thresholds"
      ],
      "metadata": {
        "colab": {
          "base_uri": "https://localhost:8080/"
        },
        "id": "rmAipCFRdV9f",
        "outputId": "e419e469-3e5b-4d32-e44f-547a759c082b"
      },
      "execution_count": null,
      "outputs": [
        {
          "output_type": "execute_result",
          "data": {
            "text/plain": [
              "array([1.74012043, 0.74012043, 0.50949213, 0.28121663])"
            ]
          },
          "metadata": {},
          "execution_count": 28
        }
      ]
    },
    {
      "cell_type": "code",
      "metadata": {
        "colab": {
          "base_uri": "https://localhost:8080/"
        },
        "id": "VHDkO3_cQwwG",
        "outputId": "ed9f6e7a-6f8e-4746-dc9d-cfe43c577dd0"
      },
      "source": [
        "#O melhor ponto de corte na curva para predição\n",
        "print('Best Threshold=%f, J-Index =%.3f' % (thresholds[ix], J[ix]))"
      ],
      "execution_count": null,
      "outputs": [
        {
          "output_type": "stream",
          "name": "stdout",
          "text": [
            "Best Threshold=0.509492, J-Index =1.000\n"
          ]
        }
      ]
    },
    {
      "cell_type": "code",
      "metadata": {
        "colab": {
          "base_uri": "https://localhost:8080/",
          "height": 279
        },
        "id": "MIw_YwqAQ8mk",
        "outputId": "422d0109-00bf-4535-ccf8-2ee45f3f3a6a"
      },
      "source": [
        "plt.plot([0,1], [0,1], linestyle='--', label='No Skill')\n",
        "plt.plot(fpr, tpr, marker='.', label='Logistic')\n",
        "plt.scatter(fpr[ix], tpr[ix], marker='o', color='black', label='Best')\n",
        "# axis labels\n",
        "plt.xlabel('False Positive Rate')\n",
        "plt.ylabel('True Positive Rate')\n",
        "plt.legend()\n",
        "# show the plot\n",
        "plt.show()"
      ],
      "execution_count": null,
      "outputs": [
        {
          "output_type": "display_data",
          "data": {
            "image/png": "[encoded data removed]",
            "text/plain": [
              "<Figure size 432x288 with 1 Axes>"
            ]
          },
          "metadata": {
            "needs_background": "light"
          }
        }
      ]
    },
    {
      "cell_type": "markdown",
      "source": [
        "#####Como o modelo está praticamente perfeito, o melhor ponto será no topo da curva."
      ],
      "metadata": {
        "id": "tpXYtuPbXvKT"
      }
    }
  ]
}